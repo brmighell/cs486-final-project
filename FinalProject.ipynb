{
 "cells": [
  {
   "cell_type": "code",
   "execution_count": 1,
   "id": "92ebccfa-017f-4658-bd84-bd4242c3f5d3",
   "metadata": {},
   "outputs": [
    {
     "data": {
      "text/html": [
       "<div>\n",
       "<style scoped>\n",
       "    .dataframe tbody tr th:only-of-type {\n",
       "        vertical-align: middle;\n",
       "    }\n",
       "\n",
       "    .dataframe tbody tr th {\n",
       "        vertical-align: top;\n",
       "    }\n",
       "\n",
       "    .dataframe thead th {\n",
       "        text-align: right;\n",
       "    }\n",
       "</style>\n",
       "<table border=\"1\" class=\"dataframe\">\n",
       "  <thead>\n",
       "    <tr style=\"text-align: right;\">\n",
       "      <th></th>\n",
       "      <th>Fiscal Year Released</th>\n",
       "      <th>Recidivism Reporting Year</th>\n",
       "      <th>Race - Ethnicity</th>\n",
       "      <th>Age At Release</th>\n",
       "      <th>Convicting Offense Classification</th>\n",
       "      <th>Convicting Offense Type</th>\n",
       "      <th>Main Supervising District</th>\n",
       "      <th>Release type: Paroled to Detainer united</th>\n",
       "      <th>Part of Target Population</th>\n",
       "      <th>Recidivism - Return to Prison numeric</th>\n",
       "    </tr>\n",
       "  </thead>\n",
       "  <tbody>\n",
       "    <tr>\n",
       "      <th>0</th>\n",
       "      <td>2010</td>\n",
       "      <td>2013</td>\n",
       "      <td>White - Non-Hispanic</td>\n",
       "      <td>Under 25</td>\n",
       "      <td>D Felony</td>\n",
       "      <td>Violent</td>\n",
       "      <td>4JD</td>\n",
       "      <td>Parole</td>\n",
       "      <td>Yes</td>\n",
       "      <td>1</td>\n",
       "    </tr>\n",
       "    <tr>\n",
       "      <th>1</th>\n",
       "      <td>2010</td>\n",
       "      <td>2013</td>\n",
       "      <td>White - Non-Hispanic</td>\n",
       "      <td>55 and Older</td>\n",
       "      <td>D Felony</td>\n",
       "      <td>Public Order</td>\n",
       "      <td>7JD</td>\n",
       "      <td>Parole</td>\n",
       "      <td>Yes</td>\n",
       "      <td>1</td>\n",
       "    </tr>\n",
       "    <tr>\n",
       "      <th>2</th>\n",
       "      <td>2010</td>\n",
       "      <td>2013</td>\n",
       "      <td>White - Non-Hispanic</td>\n",
       "      <td>25-34</td>\n",
       "      <td>D Felony</td>\n",
       "      <td>Property</td>\n",
       "      <td>5JD</td>\n",
       "      <td>Parole</td>\n",
       "      <td>Yes</td>\n",
       "      <td>1</td>\n",
       "    </tr>\n",
       "    <tr>\n",
       "      <th>3</th>\n",
       "      <td>2010</td>\n",
       "      <td>2013</td>\n",
       "      <td>White - Non-Hispanic</td>\n",
       "      <td>55 and Older</td>\n",
       "      <td>C Felony</td>\n",
       "      <td>Drug</td>\n",
       "      <td>8JD</td>\n",
       "      <td>Parole</td>\n",
       "      <td>Yes</td>\n",
       "      <td>1</td>\n",
       "    </tr>\n",
       "    <tr>\n",
       "      <th>4</th>\n",
       "      <td>2010</td>\n",
       "      <td>2013</td>\n",
       "      <td>Black - Non-Hispanic</td>\n",
       "      <td>25-34</td>\n",
       "      <td>D Felony</td>\n",
       "      <td>Drug</td>\n",
       "      <td>3JD</td>\n",
       "      <td>Parole</td>\n",
       "      <td>Yes</td>\n",
       "      <td>1</td>\n",
       "    </tr>\n",
       "    <tr>\n",
       "      <th>...</th>\n",
       "      <td>...</td>\n",
       "      <td>...</td>\n",
       "      <td>...</td>\n",
       "      <td>...</td>\n",
       "      <td>...</td>\n",
       "      <td>...</td>\n",
       "      <td>...</td>\n",
       "      <td>...</td>\n",
       "      <td>...</td>\n",
       "      <td>...</td>\n",
       "    </tr>\n",
       "    <tr>\n",
       "      <th>26015</th>\n",
       "      <td>2015</td>\n",
       "      <td>2018</td>\n",
       "      <td>White - Hispanic</td>\n",
       "      <td>25-34</td>\n",
       "      <td>C Felony</td>\n",
       "      <td>Violent</td>\n",
       "      <td>Not Mentioned</td>\n",
       "      <td>Discharged End of Sentence</td>\n",
       "      <td>Yes</td>\n",
       "      <td>0</td>\n",
       "    </tr>\n",
       "    <tr>\n",
       "      <th>26016</th>\n",
       "      <td>2015</td>\n",
       "      <td>2018</td>\n",
       "      <td>White - Non-Hispanic</td>\n",
       "      <td>25-34</td>\n",
       "      <td>D Felony</td>\n",
       "      <td>Property</td>\n",
       "      <td>5JD</td>\n",
       "      <td>Paroled to Detainer</td>\n",
       "      <td>No</td>\n",
       "      <td>0</td>\n",
       "    </tr>\n",
       "    <tr>\n",
       "      <th>26017</th>\n",
       "      <td>2015</td>\n",
       "      <td>2018</td>\n",
       "      <td>Black - Non-Hispanic</td>\n",
       "      <td>Under 25</td>\n",
       "      <td>Aggravated Misdemeanor</td>\n",
       "      <td>Violent</td>\n",
       "      <td>1JD</td>\n",
       "      <td>Discharged End of Sentence</td>\n",
       "      <td>Yes</td>\n",
       "      <td>0</td>\n",
       "    </tr>\n",
       "    <tr>\n",
       "      <th>26018</th>\n",
       "      <td>2015</td>\n",
       "      <td>2018</td>\n",
       "      <td>White - Non-Hispanic</td>\n",
       "      <td>Under 25</td>\n",
       "      <td>D Felony</td>\n",
       "      <td>Drug</td>\n",
       "      <td>5JD</td>\n",
       "      <td>Parole</td>\n",
       "      <td>No</td>\n",
       "      <td>0</td>\n",
       "    </tr>\n",
       "    <tr>\n",
       "      <th>26019</th>\n",
       "      <td>2015</td>\n",
       "      <td>2018</td>\n",
       "      <td>White - Non-Hispanic</td>\n",
       "      <td>35-44</td>\n",
       "      <td>C Felony</td>\n",
       "      <td>Violent</td>\n",
       "      <td>Not Mentioned</td>\n",
       "      <td>Parole</td>\n",
       "      <td>No</td>\n",
       "      <td>0</td>\n",
       "    </tr>\n",
       "  </tbody>\n",
       "</table>\n",
       "<p>26020 rows × 10 columns</p>\n",
       "</div>"
      ],
      "text/plain": [
       "       Fiscal Year Released  Recidivism Reporting Year      Race - Ethnicity  \\\n",
       "0                      2010                       2013  White - Non-Hispanic   \n",
       "1                      2010                       2013  White - Non-Hispanic   \n",
       "2                      2010                       2013  White - Non-Hispanic   \n",
       "3                      2010                       2013  White - Non-Hispanic   \n",
       "4                      2010                       2013  Black - Non-Hispanic   \n",
       "...                     ...                        ...                   ...   \n",
       "26015                  2015                       2018      White - Hispanic   \n",
       "26016                  2015                       2018  White - Non-Hispanic   \n",
       "26017                  2015                       2018  Black - Non-Hispanic   \n",
       "26018                  2015                       2018  White - Non-Hispanic   \n",
       "26019                  2015                       2018  White - Non-Hispanic   \n",
       "\n",
       "      Age At Release  Convicting Offense Classification  \\\n",
       "0            Under 25                          D Felony   \n",
       "1        55 and Older                          D Felony   \n",
       "2               25-34                          D Felony   \n",
       "3        55 and Older                          C Felony   \n",
       "4               25-34                          D Felony   \n",
       "...               ...                               ...   \n",
       "26015           25-34                          C Felony   \n",
       "26016           25-34                          D Felony   \n",
       "26017        Under 25            Aggravated Misdemeanor   \n",
       "26018        Under 25                          D Felony   \n",
       "26019           35-44                          C Felony   \n",
       "\n",
       "      Convicting Offense Type Main Supervising District  \\\n",
       "0                     Violent                       4JD   \n",
       "1                Public Order                       7JD   \n",
       "2                    Property                       5JD   \n",
       "3                        Drug                       8JD   \n",
       "4                        Drug                       3JD   \n",
       "...                       ...                       ...   \n",
       "26015                 Violent             Not Mentioned   \n",
       "26016                Property                       5JD   \n",
       "26017                 Violent                       1JD   \n",
       "26018                    Drug                       5JD   \n",
       "26019                 Violent             Not Mentioned   \n",
       "\n",
       "      Release type: Paroled to Detainer united Part of Target Population  \\\n",
       "0                                       Parole                       Yes   \n",
       "1                                       Parole                       Yes   \n",
       "2                                       Parole                       Yes   \n",
       "3                                       Parole                       Yes   \n",
       "4                                       Parole                       Yes   \n",
       "...                                        ...                       ...   \n",
       "26015               Discharged End of Sentence                       Yes   \n",
       "26016                      Paroled to Detainer                        No   \n",
       "26017               Discharged End of Sentence                       Yes   \n",
       "26018                                   Parole                        No   \n",
       "26019                                   Parole                        No   \n",
       "\n",
       "       Recidivism - Return to Prison numeric  \n",
       "0                                          1  \n",
       "1                                          1  \n",
       "2                                          1  \n",
       "3                                          1  \n",
       "4                                          1  \n",
       "...                                      ...  \n",
       "26015                                      0  \n",
       "26016                                      0  \n",
       "26017                                      0  \n",
       "26018                                      0  \n",
       "26019                                      0  \n",
       "\n",
       "[26020 rows x 10 columns]"
      ]
     },
     "execution_count": 1,
     "metadata": {},
     "output_type": "execute_result"
    }
   ],
   "source": [
    "import pandas as pd\n",
    "\n",
    "df = pd.read_csv('3_year_recidivism_elaborated_2.csv')\n",
    "df"
   ]
  },
  {
   "cell_type": "code",
   "execution_count": 2,
   "id": "9f061bc1-d146-447f-84d3-de3a929108a5",
   "metadata": {},
   "outputs": [
    {
     "data": {
      "text/html": [
       "<div>\n",
       "<style scoped>\n",
       "    .dataframe tbody tr th:only-of-type {\n",
       "        vertical-align: middle;\n",
       "    }\n",
       "\n",
       "    .dataframe tbody tr th {\n",
       "        vertical-align: top;\n",
       "    }\n",
       "\n",
       "    .dataframe thead th {\n",
       "        text-align: right;\n",
       "    }\n",
       "</style>\n",
       "<table border=\"1\" class=\"dataframe\">\n",
       "  <thead>\n",
       "    <tr style=\"text-align: right;\">\n",
       "      <th></th>\n",
       "      <th>Fiscal Year Released</th>\n",
       "      <th>Recidivism Reporting Year</th>\n",
       "      <th>Recidivism - Return to Prison numeric</th>\n",
       "    </tr>\n",
       "  </thead>\n",
       "  <tbody>\n",
       "    <tr>\n",
       "      <th>count</th>\n",
       "      <td>26020.000000</td>\n",
       "      <td>26020.000000</td>\n",
       "      <td>26020.000000</td>\n",
       "    </tr>\n",
       "    <tr>\n",
       "      <th>mean</th>\n",
       "      <td>2012.600769</td>\n",
       "      <td>2015.600769</td>\n",
       "      <td>0.333628</td>\n",
       "    </tr>\n",
       "    <tr>\n",
       "      <th>std</th>\n",
       "      <td>1.661028</td>\n",
       "      <td>1.661028</td>\n",
       "      <td>0.471518</td>\n",
       "    </tr>\n",
       "    <tr>\n",
       "      <th>min</th>\n",
       "      <td>2010.000000</td>\n",
       "      <td>2013.000000</td>\n",
       "      <td>0.000000</td>\n",
       "    </tr>\n",
       "    <tr>\n",
       "      <th>25%</th>\n",
       "      <td>2011.000000</td>\n",
       "      <td>2014.000000</td>\n",
       "      <td>0.000000</td>\n",
       "    </tr>\n",
       "    <tr>\n",
       "      <th>50%</th>\n",
       "      <td>2013.000000</td>\n",
       "      <td>2016.000000</td>\n",
       "      <td>0.000000</td>\n",
       "    </tr>\n",
       "    <tr>\n",
       "      <th>75%</th>\n",
       "      <td>2014.000000</td>\n",
       "      <td>2017.000000</td>\n",
       "      <td>1.000000</td>\n",
       "    </tr>\n",
       "    <tr>\n",
       "      <th>max</th>\n",
       "      <td>2015.000000</td>\n",
       "      <td>2018.000000</td>\n",
       "      <td>1.000000</td>\n",
       "    </tr>\n",
       "  </tbody>\n",
       "</table>\n",
       "</div>"
      ],
      "text/plain": [
       "       Fiscal Year Released  Recidivism Reporting Year  \\\n",
       "count          26020.000000               26020.000000   \n",
       "mean            2012.600769                2015.600769   \n",
       "std                1.661028                   1.661028   \n",
       "min             2010.000000                2013.000000   \n",
       "25%             2011.000000                2014.000000   \n",
       "50%             2013.000000                2016.000000   \n",
       "75%             2014.000000                2017.000000   \n",
       "max             2015.000000                2018.000000   \n",
       "\n",
       "       Recidivism - Return to Prison numeric  \n",
       "count                           26020.000000  \n",
       "mean                                0.333628  \n",
       "std                                 0.471518  \n",
       "min                                 0.000000  \n",
       "25%                                 0.000000  \n",
       "50%                                 0.000000  \n",
       "75%                                 1.000000  \n",
       "max                                 1.000000  "
      ]
     },
     "execution_count": 2,
     "metadata": {},
     "output_type": "execute_result"
    }
   ],
   "source": [
    "df.describe()"
   ]
  },
  {
   "cell_type": "code",
   "execution_count": 3,
   "id": "1ffab7c2-100c-4e1f-bf7f-ec5e74170b5c",
   "metadata": {},
   "outputs": [
    {
     "name": "stdout",
     "output_type": "stream",
     "text": [
      "<class 'pandas.core.frame.DataFrame'>\n",
      "RangeIndex: 26020 entries, 0 to 26019\n",
      "Data columns (total 10 columns):\n",
      " #   Column                                    Non-Null Count  Dtype \n",
      "---  ------                                    --------------  ----- \n",
      " 0   Fiscal Year Released                      26020 non-null  int64 \n",
      " 1   Recidivism Reporting Year                 26020 non-null  int64 \n",
      " 2   Race - Ethnicity                          26020 non-null  object\n",
      " 3   Age At Release                            26020 non-null  object\n",
      " 4   Convicting Offense Classification         26020 non-null  object\n",
      " 5   Convicting Offense Type                   26020 non-null  object\n",
      " 6   Main Supervising District                 26020 non-null  object\n",
      " 7   Release type: Paroled to Detainer united  26020 non-null  object\n",
      " 8   Part of Target Population                 26020 non-null  object\n",
      " 9   Recidivism - Return to Prison numeric     26020 non-null  int64 \n",
      "dtypes: int64(3), object(7)\n",
      "memory usage: 2.0+ MB\n"
     ]
    }
   ],
   "source": [
    "df.info()"
   ]
  },
  {
   "cell_type": "code",
   "execution_count": null,
   "id": "bb660c6b-768b-4e3f-be26-55c23d426785",
   "metadata": {},
   "outputs": [],
   "source": []
  },
  {
   "cell_type": "code",
   "execution_count": 4,
   "id": "b067d06c-8bec-40c9-85b6-adb0612616c0",
   "metadata": {},
   "outputs": [],
   "source": [
    "from sklearn.preprocessing import OneHotEncoder\n",
    "\n",
    "x = df.iloc[:,:-1].values\n",
    "y = df.iloc[:,-1].values\n",
    "\n",
    "enc = OneHotEncoder(sparse=False)\n",
    "one_hot_x = enc.fit_transform(x)"
   ]
  },
  {
   "cell_type": "code",
   "execution_count": 5,
   "id": "9fc9a895-4663-4a13-bf74-324019f6d237",
   "metadata": {},
   "outputs": [
    {
     "data": {
      "text/plain": [
       "[array([2010, 2011, 2012, 2013, 2014, 2015], dtype=object),\n",
       " array([2013, 2014, 2015, 2016, 2017, 2018], dtype=object),\n",
       " array(['American Indian or Alaska Native - Hispanic',\n",
       "        'American Indian or Alaska Native - Non-Hispanic',\n",
       "        'Asian or Pacific Islander - Hispanic',\n",
       "        'Asian or Pacific Islander - Non-Hispanic', 'Black -',\n",
       "        'Black - Hispanic', 'Black - Non-Hispanic', 'N/A -',\n",
       "        'Not Mentioned', 'White -', 'White - Hispanic',\n",
       "        'White - Non-Hispanic'], dtype=object),\n",
       " array(['25-34', '35-44', '45-54', '55 and Older', 'Not Mentioned',\n",
       "        'Under 25'], dtype=object),\n",
       " array(['A Felony', 'Aggravated Misdemeanor', 'B Felony', 'C Felony',\n",
       "        'D Felony', 'Felony - Enhanced',\n",
       "        'Felony - Enhancement to Original Penalty',\n",
       "        'Felony - Mandatory Minimum', 'Other Felony',\n",
       "        'Other Felony (Old Code)', 'Other Misdemeanor',\n",
       "        'Serious Misdemeanor', 'Sexual Predator Community Supervision',\n",
       "        'Simple Misdemeanor', 'Special Sentence 2005'], dtype=object),\n",
       " array(['Drug', 'Other', 'Property', 'Public Order', 'Violent'],\n",
       "       dtype=object),\n",
       " array(['1JD', '2JD', '3JD', '4JD', '5JD', '6JD', '7JD', '8JD', 'ISC',\n",
       "        'Interstate Compact', 'Not Mentioned'], dtype=object),\n",
       " array(['Discharged End of Sentence', 'Not Mentioned', 'Parole',\n",
       "        'Paroled to Detainer', 'Special Sentence'], dtype=object),\n",
       " array(['No', 'Yes'], dtype=object)]"
      ]
     },
     "execution_count": 5,
     "metadata": {},
     "output_type": "execute_result"
    }
   ],
   "source": [
    "enc.categories_"
   ]
  },
  {
   "cell_type": "code",
   "execution_count": 6,
   "id": "effcc908-64b8-4f65-add8-0b5aeee56d31",
   "metadata": {},
   "outputs": [],
   "source": [
    "from sklearn.model_selection import StratifiedShuffleSplit\n",
    "\n",
    "sss = StratifiedShuffleSplit(n_splits=1, test_size=0.4)\n",
    "\n",
    "for train_index, combo_index in sss.split(one_hot_x, y):\n",
    "    train_x, combo_x = one_hot_x[train_index], one_hot_x[combo_index]\n",
    "    train_y, combo_y = y[train_index], y[combo_index]"
   ]
  },
  {
   "cell_type": "code",
   "execution_count": 7,
   "id": "92edf4a8-73e3-4a33-8dbf-922c8436c6db",
   "metadata": {},
   "outputs": [
    {
     "data": {
      "text/plain": [
       "(10408, 68)"
      ]
     },
     "execution_count": 7,
     "metadata": {},
     "output_type": "execute_result"
    }
   ],
   "source": [
    "combo_x.shape"
   ]
  },
  {
   "cell_type": "code",
   "execution_count": 8,
   "id": "46028911-56c9-486a-910a-07033fc77c2e",
   "metadata": {},
   "outputs": [],
   "source": [
    "sss = StratifiedShuffleSplit(n_splits=1, test_size=0.5)\n",
    "\n",
    "for test_index, valid_index in sss.split(combo_x, combo_y):\n",
    "    test_x, valid_x = combo_x[test_index], combo_x[valid_index]\n",
    "    test_y, valid_y = combo_y[test_index], combo_y[valid_index]"
   ]
  },
  {
   "cell_type": "code",
   "execution_count": 9,
   "id": "fae50f6d-d970-41e1-a284-87173fdeab89",
   "metadata": {},
   "outputs": [
    {
     "data": {
      "text/plain": [
       "5204"
      ]
     },
     "execution_count": 9,
     "metadata": {},
     "output_type": "execute_result"
    }
   ],
   "source": [
    "len(valid_y)"
   ]
  },
  {
   "cell_type": "code",
   "execution_count": 10,
   "id": "5f0fb0da-7eb6-4bb9-adf6-093b6cc5b9a2",
   "metadata": {},
   "outputs": [],
   "source": [
    "import torch\n",
    "\n",
    "train_x, test_x, valid_x = map(torch.tensor, (train_x, test_x, valid_x))\n",
    "train_y, test_y, valid_y = map(torch.tensor, (train_y, test_y, valid_y))"
   ]
  },
  {
   "cell_type": "code",
   "execution_count": 11,
   "id": "c52252b3-c84c-4d7e-80f8-b1fdc1c90707",
   "metadata": {},
   "outputs": [],
   "source": [
    "train_x = train_x.float()\n",
    "test_x = test_x.float()\n",
    "valid_x = valid_x.float()"
   ]
  },
  {
   "cell_type": "code",
   "execution_count": 12,
   "id": "d0a3e83f-0b7c-4c11-b153-fffca380a353",
   "metadata": {},
   "outputs": [
    {
     "data": {
      "text/plain": [
       "tensor([[0., 0., 0.,  ..., 0., 1., 0.],\n",
       "        [0., 0., 0.,  ..., 0., 1., 0.],\n",
       "        [0., 1., 0.,  ..., 0., 0., 1.],\n",
       "        ...,\n",
       "        [0., 0., 0.,  ..., 0., 0., 1.],\n",
       "        [0., 0., 0.,  ..., 0., 1., 0.],\n",
       "        [0., 1., 0.,  ..., 0., 0., 1.]])"
      ]
     },
     "execution_count": 12,
     "metadata": {},
     "output_type": "execute_result"
    }
   ],
   "source": [
    "train_x"
   ]
  },
  {
   "cell_type": "markdown",
   "id": "c3037a8b-c51e-45c2-a3d4-cf99ce7ceceb",
   "metadata": {},
   "source": [
    "# DNN"
   ]
  },
  {
   "cell_type": "code",
   "execution_count": 13,
   "id": "0461d9fe-77e0-4474-b881-a747d1f131db",
   "metadata": {},
   "outputs": [],
   "source": [
    "from torch.utils.data import Dataset\n",
    "\n",
    "class dds(Dataset):\n",
    "    \n",
    "    def __init__(self, x, y):\n",
    "        self.x = x\n",
    "        self.y = y\n",
    "        \n",
    "    def __getitem__(self, index):\n",
    "        return self.x[index], self.y[index]\n",
    "    \n",
    "    def __len__(self):\n",
    "        return len(self.x)"
   ]
  },
  {
   "cell_type": "code",
   "execution_count": 14,
   "id": "5e3afbe0-4e6f-4683-9f7c-7fc515afe7b9",
   "metadata": {},
   "outputs": [],
   "source": [
    "from torch.utils.data import DataLoader\n",
    "\n",
    "mydata = dds(train_x, train_y)\n",
    "train_loader = DataLoader(dataset = mydata, batch_size=16)"
   ]
  },
  {
   "cell_type": "code",
   "execution_count": 15,
   "id": "3ea5d1b0-3a7c-4fec-b075-38fdaa91c9ff",
   "metadata": {},
   "outputs": [],
   "source": [
    "class FeedForward(torch.nn.Module):\n",
    "    # Make the network with some parameters so it works with lots of data types\n",
    "    def __init__(self, n_inputs, n_outputs, hidden_size):\n",
    "        super(FeedForward, self).__init__()\n",
    "        self.n_inputs = n_inputs\n",
    "        self.n_outputs = n_outputs\n",
    "        self.hidden_size = hidden_size\n",
    "        \n",
    "        self.fc1 = torch.nn.Linear(self.n_inputs, self.hidden_size)\n",
    "        self.fc2 = torch.nn.Linear(self.hidden_size, self.hidden_size)\n",
    "        self.fc3 = torch.nn.Linear(self.hidden_size, self.hidden_size)\n",
    "        self.fc4 = torch.nn.Linear(self.hidden_size, self.hidden_size)\n",
    "        self.fc5 = torch.nn.Linear(self.hidden_size, self.hidden_size)\n",
    "        self.fc6 = torch.nn.Linear(self.hidden_size, self.hidden_size)\n",
    "        self.fc7 = torch.nn.Linear(self.hidden_size, self.hidden_size)\n",
    "        self.fc8 = torch.nn.Linear(self.hidden_size, self.hidden_size)\n",
    "        self.fc9 = torch.nn.Linear(self.hidden_size, self.n_outputs)\n",
    "        \n",
    "        self.relu = torch.nn.ReLU()\n",
    "        \n",
    "        self.init_weights()\n",
    "        \n",
    "    def init_weights(self):\n",
    "        torch.nn.init.kaiming_normal_(self.fc1.weight)\n",
    "        torch.nn.init.kaiming_normal_(self.fc2.weight)\n",
    "        torch.nn.init.kaiming_normal_(self.fc3.weight)\n",
    "        torch.nn.init.kaiming_normal_(self.fc4.weight)\n",
    "        torch.nn.init.kaiming_normal_(self.fc5.weight)\n",
    "        torch.nn.init.kaiming_normal_(self.fc6.weight)\n",
    "        torch.nn.init.kaiming_normal_(self.fc7.weight)\n",
    "        torch.nn.init.kaiming_normal_(self.fc8.weight)\n",
    "        torch.nn.init.kaiming_normal_(self.fc9.weight)\n",
    "        \n",
    "    def forward(self, features):\n",
    "        output = self.fc1(features)\n",
    "        output = self.relu(output)\n",
    "        output = self.fc2(output)\n",
    "        output = self.relu(output)\n",
    "        output = self.fc3(output)\n",
    "        output = self.relu(output)\n",
    "        output = self.fc4(output)\n",
    "        output = self.relu(output)\n",
    "        output = self.fc5(output)\n",
    "        output = self.relu(output)\n",
    "        output = self.fc6(output)\n",
    "        output = self.relu(output)\n",
    "        output = self.fc7(output)\n",
    "        output = self.relu(output)\n",
    "        output = self.fc8(output)\n",
    "        output = self.relu(output)\n",
    "        output = self.fc9(output)\n",
    "        output = self.relu(output)\n",
    "        return output"
   ]
  },
  {
   "cell_type": "code",
   "execution_count": 16,
   "id": "1ff49cf1-8a4e-4d10-bc82-d369a0d05c5d",
   "metadata": {},
   "outputs": [],
   "source": [
    "# Create an instance of the network for the data we have...\n",
    "model = FeedForward(n_inputs = train_x.shape[1], n_outputs = 2, hidden_size = 50)\n",
    "\n",
    "# The loss function...\n",
    "criterion = torch.nn.CrossEntropyLoss(reduction='mean', label_smoothing=0.1)\n",
    "\n",
    "# Define backprop parameters\n",
    "optimizer = torch.optim.RMSprop(params=model.parameters(), lr=0.0001, momentum=0.5)"
   ]
  },
  {
   "cell_type": "markdown",
   "id": "d95db76d-a91b-45e9-9b2e-c0c45adcb7d7",
   "metadata": {},
   "source": [
    "- CrossEntropyLoss: reduction: no change, label_smoothing: no change\n",
    "- "
   ]
  },
  {
   "cell_type": "code",
   "execution_count": null,
   "id": "ee517ae0-0120-4eb6-b3d3-050074b29e01",
   "metadata": {},
   "outputs": [],
   "source": []
  },
  {
   "cell_type": "code",
   "execution_count": 17,
   "id": "3d796258-c1aa-43a7-b488-66b6187e9b3d",
   "metadata": {},
   "outputs": [
    {
     "name": "stdout",
     "output_type": "stream",
     "text": [
      "After epoch 1 ... accuracy (train): 0.6667 ... accuracy (valid): 0.6666\n",
      "After epoch 2 ... accuracy (train): 0.6667 ... accuracy (valid): 0.667\n",
      "After epoch 3 ... accuracy (train): 0.6667 ... accuracy (valid): 0.6654\n",
      "After epoch 4 ... accuracy (train): 0.6667 ... accuracy (valid): 0.6649\n",
      "After epoch 5 ... accuracy (train): 0.6667 ... accuracy (valid): 0.6658\n",
      "After epoch 6 ... accuracy (train): 0.6667 ... accuracy (valid): 0.6635\n",
      "After epoch 7 ... accuracy (train): 0.6667 ... accuracy (valid): 0.6624\n",
      "After epoch 8 ... accuracy (train): 0.6667 ... accuracy (valid): 0.6626\n",
      "After epoch 9 ... accuracy (train): 0.6667 ... accuracy (valid): 0.658\n",
      "After epoch 10 ... accuracy (train): 0.5833 ... accuracy (valid): 0.6564\n",
      "After epoch 11 ... accuracy (train): 0.75 ... accuracy (valid): 0.6537\n",
      "After epoch 12 ... accuracy (train): 0.75 ... accuracy (valid): 0.6491\n",
      "After epoch 13 ... accuracy (train): 0.8333 ... accuracy (valid): 0.6507\n",
      "After epoch 14 ... accuracy (train): 0.8333 ... accuracy (valid): 0.648\n",
      "After epoch 15 ... accuracy (train): 0.8333 ... accuracy (valid): 0.6485\n",
      "After epoch 16 ... accuracy (train): 0.8333 ... accuracy (valid): 0.6487\n",
      "After epoch 17 ... accuracy (train): 0.8333 ... accuracy (valid): 0.6468\n",
      "After epoch 18 ... accuracy (train): 0.8333 ... accuracy (valid): 0.6453\n",
      "After epoch 19 ... accuracy (train): 0.75 ... accuracy (valid): 0.6478\n",
      "After epoch 20 ... accuracy (train): 0.75 ... accuracy (valid): 0.6447\n",
      "After epoch 21 ... accuracy (train): 0.8333 ... accuracy (valid): 0.6514\n",
      "After epoch 22 ... accuracy (train): 0.8333 ... accuracy (valid): 0.6497\n",
      "After epoch 23 ... accuracy (train): 0.8333 ... accuracy (valid): 0.6476\n",
      "After epoch 24 ... accuracy (train): 0.8333 ... accuracy (valid): 0.648\n",
      "After epoch 25 ... accuracy (train): 0.8333 ... accuracy (valid): 0.6468\n",
      "After epoch 26 ... accuracy (train): 0.8333 ... accuracy (valid): 0.6466\n",
      "After epoch 27 ... accuracy (train): 0.8333 ... accuracy (valid): 0.6382\n",
      "Terminating early...\n"
     ]
    }
   ],
   "source": [
    "# Train on train; evaluate on eval\n",
    "# Allow for early stopping if eval accuracy drops\n",
    "valid_acc = [0.]\n",
    "drops = 3\n",
    "epochs = 50\n",
    "\n",
    "epoch = 0\n",
    "while epoch < epochs and drops > 0:\n",
    "    epoch += 1\n",
    "    for features, targets in train_loader:\n",
    "        output = model.forward(features)\n",
    "        loss = criterion(output, targets)\n",
    "        optimizer.zero_grad()\n",
    "        loss.backward()\n",
    "        optimizer.step()\n",
    "        \n",
    "    # Evaluate against the train data\n",
    "    model.eval()\n",
    "    c = torch.argmax(output.data, dim=1)\n",
    "    train_accuracy = (c == targets).sum().item() / targets.shape[0]\n",
    "    # print('After epoch:', epoch, '... accuracy:', train_accuracy)\n",
    "    \n",
    "    # Evaluate against the validation data\n",
    "    hyp = model.forward(valid_x)\n",
    "    cv = torch.argmax(hyp.data, dim=1)\n",
    "    valid_accuracy = (cv == valid_y).sum().item() / valid_y.shape[0]\n",
    "    # Keep track of the history of validation accuracy\n",
    "    valid_acc.append(valid_accuracy)\n",
    "    \n",
    "    print('After epoch', epoch, '... accuracy (train):', round(train_accuracy, 4),\n",
    "         '... accuracy (valid):', round(valid_accuracy, 4))\n",
    "    \n",
    "    # Resume training this way...?\n",
    "    model.train()\n",
    "    \n",
    "    # Stop early if necessary...\n",
    "    if valid_acc[-1] < valid_acc[-2]:\n",
    "        if epoch > 10:\n",
    "            drops -= 1\n",
    "        if drops <= 0:\n",
    "            print('Terminating early...')\n",
    "    if valid_acc[-1] > valid_acc[-2]:\n",
    "        drops = 3"
   ]
  },
  {
   "cell_type": "code",
   "execution_count": 18,
   "id": "73995933-9085-492e-8479-5291a5645c78",
   "metadata": {},
   "outputs": [
    {
     "name": "stdout",
     "output_type": "stream",
     "text": [
      "Test accuracy: 0.6418\n"
     ]
    }
   ],
   "source": [
    "# Test on test data\n",
    "# Expect validation accuracy ~= test accuracy (but there are exceptions)\n",
    "\n",
    "# Turn off learning in the network\n",
    "with torch.no_grad():\n",
    "    # Push the test data through the network\n",
    "    hyp = model.forward(test_x)\n",
    "    ct = torch.argmax(hyp.data, dim=1)\n",
    "    test_accuracy = (ct == test_y).sum().item() / test_y.shape[0]\n",
    "\n",
    "    print('Test accuracy:', round(test_accuracy, 4))"
   ]
  },
  {
   "cell_type": "markdown",
   "id": "c98e9233-a157-4051-ab21-8ecdeeab933c",
   "metadata": {
    "tags": []
   },
   "source": [
    "# KNN"
   ]
  },
  {
   "cell_type": "code",
   "execution_count": 19,
   "id": "95bb2ea5-a899-4f5c-b282-adee73bca232",
   "metadata": {},
   "outputs": [],
   "source": [
    "from sklearn.neighbors import KNeighborsClassifier\n",
    "from sklearn.metrics import accuracy_score\n",
    "\n",
    "acc = dict()\n",
    "for k in range(2, 15):\n",
    "    clf = KNeighborsClassifier(n_neighbors=k)\n",
    "    clf.fit(train_x, train_y)\n",
    "    acc[k] = accuracy_score(valid_y, clf.predict(valid_x))"
   ]
  },
  {
   "cell_type": "code",
   "execution_count": 20,
   "id": "91c84fff-dcf6-4a63-abc7-8df95c88373f",
   "metadata": {},
   "outputs": [
    {
     "data": {
      "text/plain": [
       "{2: 0.6516141429669485,\n",
       " 3: 0.6227901614142967,\n",
       " 4: 0.6425826287471176,\n",
       " 5: 0.622021521906226,\n",
       " 6: 0.648923904688701,\n",
       " 7: 0.6281706379707916,\n",
       " 8: 0.6516141429669485,\n",
       " 9: 0.6373943120676403,\n",
       " 10: 0.6546887009992314,\n",
       " 11: 0.642966948501153,\n",
       " 12: 0.6554573405073021,\n",
       " 13: 0.6481552651806303,\n",
       " 14: 0.6571867794004612}"
      ]
     },
     "execution_count": 20,
     "metadata": {},
     "output_type": "execute_result"
    }
   ],
   "source": [
    "acc"
   ]
  },
  {
   "cell_type": "markdown",
   "id": "65b3f43e-56f4-4956-807e-88a5512e445b",
   "metadata": {},
   "source": [
    "# Trees"
   ]
  },
  {
   "cell_type": "code",
   "execution_count": 21,
   "id": "d85c222c-55ae-4547-8aef-4e13724ba342",
   "metadata": {},
   "outputs": [
    {
     "data": {
      "text/plain": [
       "0.6331667947732513"
      ]
     },
     "execution_count": 21,
     "metadata": {},
     "output_type": "execute_result"
    }
   ],
   "source": [
    "from sklearn.tree import DecisionTreeClassifier\n",
    "# Doesn't work with strings\n",
    "clf = DecisionTreeClassifier()\n",
    "clf.fit(train_x, train_y)\n",
    "\n",
    "accuracy_score(valid_y, clf.predict(valid_x))"
   ]
  },
  {
   "cell_type": "code",
   "execution_count": 22,
   "id": "6ca55806-6c4f-464a-82c2-7f191d34c4d9",
   "metadata": {},
   "outputs": [
    {
     "data": {
      "text/plain": [
       "0.6408531898539584"
      ]
     },
     "execution_count": 22,
     "metadata": {},
     "output_type": "execute_result"
    }
   ],
   "source": [
    "from sklearn.ensemble import RandomForestClassifier\n",
    "\n",
    "rf = RandomForestClassifier()\n",
    "rf.fit(train_x, train_y)\n",
    "\n",
    "accuracy_score(valid_y, rf.predict(valid_x))"
   ]
  },
  {
   "cell_type": "code",
   "execution_count": 23,
   "id": "f8efa223-01ee-4b3c-b4fe-fe17550f93c9",
   "metadata": {},
   "outputs": [],
   "source": [
    "from sklearn.model_selection import train_test_split\n",
    "\n",
    "x_train, x_combo, y_train, y_combo = train_test_split(x, y, train_size=0.8)\n",
    "x_test, x_valid, y_test, y_valid = train_test_split(x_combo, y_combo, train_size=0.5)"
   ]
  },
  {
   "cell_type": "code",
   "execution_count": 24,
   "id": "083fc580-8ce4-43de-ba27-dcdba0240111",
   "metadata": {},
   "outputs": [
    {
     "data": {
      "text/plain": [
       "{'criterion': 'entropy', 'max_depth': 8, 'n_estimators': 20}"
      ]
     },
     "execution_count": 24,
     "metadata": {},
     "output_type": "execute_result"
    }
   ],
   "source": [
    "from sklearn.model_selection import GridSearchCV\n",
    "\n",
    "folds = 10\n",
    "params = {'criterion': ('entropy', 'gini'),\n",
    "         'max_depth': [2, 3, 4, 5, 6, 7, 8],\n",
    "         'n_estimators': [10, 20, 30, 40]}\n",
    "\n",
    "rf = RandomForestClassifier()\n",
    "clf = GridSearchCV(rf, params, cv=folds)\n",
    "clf.fit(train_x, train_y)\n",
    "clf.best_params_"
   ]
  },
  {
   "cell_type": "code",
   "execution_count": 25,
   "id": "85168196-c674-408f-b8b8-7eb9b129b766",
   "metadata": {},
   "outputs": [
    {
     "data": {
      "text/plain": [
       "0.6696771714066103"
      ]
     },
     "execution_count": 25,
     "metadata": {},
     "output_type": "execute_result"
    }
   ],
   "source": [
    "accuracy_score(test_y, clf.predict(test_x))"
   ]
  },
  {
   "cell_type": "code",
   "execution_count": 26,
   "id": "b0488936-e4b0-4962-b343-69953ba2fbfb",
   "metadata": {
    "tags": []
   },
   "outputs": [
    {
     "data": {
      "text/plain": [
       "{'criterion': 'entropy', 'max_depth': 7}"
      ]
     },
     "execution_count": 26,
     "metadata": {},
     "output_type": "execute_result"
    }
   ],
   "source": [
    "folds = 10\n",
    "params = {'criterion': ('entropy', 'gini'),\n",
    "         'max_depth': [2, 3, 4, 5, 6, 7, 8]}\n",
    "\n",
    "rf = DecisionTreeClassifier()\n",
    "clf = GridSearchCV(rf, params, cv=folds)\n",
    "clf.fit(train_x, train_y)\n",
    "clf.best_params_"
   ]
  },
  {
   "cell_type": "code",
   "execution_count": 27,
   "id": "5a529c5d-abde-4ac0-8cea-da15dac6ba9f",
   "metadata": {},
   "outputs": [
    {
     "data": {
      "text/plain": [
       "0.6733282090699462"
      ]
     },
     "execution_count": 27,
     "metadata": {},
     "output_type": "execute_result"
    }
   ],
   "source": [
    "accuracy_score(test_y, clf.predict(test_x))"
   ]
  },
  {
   "cell_type": "markdown",
   "id": "f389b7c2-6ab1-43b1-b38a-d67cfce5a9e2",
   "metadata": {},
   "source": [
    "# Logistic Regression"
   ]
  },
  {
   "cell_type": "code",
   "execution_count": 28,
   "id": "f2f41001-ec07-420d-b2a1-d9c977d1bd97",
   "metadata": {},
   "outputs": [
    {
     "data": {
      "text/plain": [
       "LogisticRegression(max_iter=500)"
      ]
     },
     "execution_count": 28,
     "metadata": {},
     "output_type": "execute_result"
    }
   ],
   "source": [
    "from sklearn.linear_model import LogisticRegression\n",
    "\n",
    "clf = LogisticRegression(max_iter=500)\n",
    "clf.fit(train_x, train_y)"
   ]
  },
  {
   "cell_type": "code",
   "execution_count": 29,
   "id": "7575e6ce-96d3-4b4d-9641-e2348c1dd56d",
   "metadata": {},
   "outputs": [
    {
     "data": {
      "text/plain": [
       "0.6767870868562644"
      ]
     },
     "execution_count": 29,
     "metadata": {},
     "output_type": "execute_result"
    }
   ],
   "source": [
    "accuracy_score(test_y, clf.predict(test_x))"
   ]
  },
  {
   "cell_type": "code",
   "execution_count": 30,
   "id": "f949fecb-7a8a-49bb-9574-665aea6c064b",
   "metadata": {},
   "outputs": [
    {
     "data": {
      "text/plain": [
       "array([[3261,  207],\n",
       "       [1475,  261]], dtype=int64)"
      ]
     },
     "execution_count": 30,
     "metadata": {},
     "output_type": "execute_result"
    }
   ],
   "source": [
    "from sklearn.metrics import confusion_matrix\n",
    "\n",
    "confusion_matrix(test_y, clf.predict(test_x))"
   ]
  },
  {
   "cell_type": "code",
   "execution_count": 31,
   "id": "ed077d01-15e6-4b5d-8e68-377cb33292fb",
   "metadata": {},
   "outputs": [
    {
     "data": {
      "text/plain": [
       "GridSearchCV(cv=5, estimator=LogisticRegression(solver='liblinear'),\n",
       "             param_grid={'C': [0.0001, 0.001, 0.01, 0.1, 1, 10, 100, 1000,\n",
       "                               10000],\n",
       "                         'penalty': ['l1', 'l2']})"
      ]
     },
     "execution_count": 31,
     "metadata": {},
     "output_type": "execute_result"
    }
   ],
   "source": [
    "parameters = {'penalty': ['l1', 'l2'],\n",
    "             'C': [1e-4, 1e-3, 1e-2, 0.1, 1, 10, 100, 1000, 10000]}\n",
    "\n",
    "lr = LogisticRegression(solver='liblinear')\n",
    "clf = GridSearchCV(lr, parameters, cv=5)\n",
    "clf.fit(train_x, train_y)"
   ]
  },
  {
   "cell_type": "code",
   "execution_count": 32,
   "id": "68214476-2b27-4ff0-b39f-033ae32954a6",
   "metadata": {},
   "outputs": [
    {
     "data": {
      "text/plain": [
       "0.6760186198859774"
      ]
     },
     "execution_count": 32,
     "metadata": {},
     "output_type": "execute_result"
    }
   ],
   "source": [
    "clf.best_score_"
   ]
  },
  {
   "cell_type": "code",
   "execution_count": 33,
   "id": "8bb9005e-240c-4406-9e42-7bdf7c821f52",
   "metadata": {},
   "outputs": [
    {
     "data": {
      "text/plain": [
       "0.675826287471176"
      ]
     },
     "execution_count": 33,
     "metadata": {},
     "output_type": "execute_result"
    }
   ],
   "source": [
    "accuracy_score(test_y, clf.predict(test_x))"
   ]
  },
  {
   "cell_type": "code",
   "execution_count": null,
   "id": "23360e4f-3c0a-4f73-84e2-d68e399a613d",
   "metadata": {},
   "outputs": [],
   "source": []
  }
 ],
 "metadata": {
  "kernelspec": {
   "display_name": "Python 3 (ipykernel)",
   "language": "python",
   "name": "python3"
  },
  "language_info": {
   "codemirror_mode": {
    "name": "ipython",
    "version": 3
   },
   "file_extension": ".py",
   "mimetype": "text/x-python",
   "name": "python",
   "nbconvert_exporter": "python",
   "pygments_lexer": "ipython3",
   "version": "3.9.7"
  }
 },
 "nbformat": 4,
 "nbformat_minor": 5
}
