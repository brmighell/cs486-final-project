{
 "cells": [
  {
   "cell_type": "markdown",
   "id": "9d6020ca-531b-4c7f-a533-c8507b5cadec",
   "metadata": {},
   "source": [
    "# Imports"
   ]
  },
  {
   "cell_type": "code",
   "execution_count": 1,
   "id": "92ebccfa-017f-4658-bd84-bd4242c3f5d3",
   "metadata": {},
   "outputs": [],
   "source": [
    "import pandas as pd\n",
    "from sklearn.preprocessing import OneHotEncoder\n",
    "from sklearn.model_selection import StratifiedShuffleSplit\n",
    "from sklearn.model_selection import GridSearchCV\n",
    "from sklearn.neighbors import KNeighborsClassifier\n",
    "from sklearn.metrics import accuracy_score\n",
    "from sklearn.tree import DecisionTreeClassifier\n",
    "from sklearn.ensemble import RandomForestClassifier\n",
    "from sklearn.linear_model import LogisticRegression\n",
    "import tensorflow as tf\n",
    "import numpy as np\n",
    "import matplotlib.pyplot as plt"
   ]
  },
  {
   "cell_type": "markdown",
   "id": "043f37ae-2ab1-49ae-8f9e-48be02192c72",
   "metadata": {
    "tags": []
   },
   "source": [
    "# EDA"
   ]
  },
  {
   "cell_type": "code",
   "execution_count": 2,
   "id": "8a6294c3-ebef-4ba8-85c8-db0b5115d222",
   "metadata": {},
   "outputs": [
    {
     "data": {
      "text/html": [
       "<div>\n",
       "<style scoped>\n",
       "    .dataframe tbody tr th:only-of-type {\n",
       "        vertical-align: middle;\n",
       "    }\n",
       "\n",
       "    .dataframe tbody tr th {\n",
       "        vertical-align: top;\n",
       "    }\n",
       "\n",
       "    .dataframe thead th {\n",
       "        text-align: right;\n",
       "    }\n",
       "</style>\n",
       "<table border=\"1\" class=\"dataframe\">\n",
       "  <thead>\n",
       "    <tr style=\"text-align: right;\">\n",
       "      <th></th>\n",
       "      <th>Fiscal Year Released</th>\n",
       "      <th>Recidivism Reporting Year</th>\n",
       "      <th>Race - Ethnicity</th>\n",
       "      <th>Age At Release</th>\n",
       "      <th>Convicting Offense Classification</th>\n",
       "      <th>Convicting Offense Type</th>\n",
       "      <th>Main Supervising District</th>\n",
       "      <th>Release type: Paroled to Detainer united</th>\n",
       "      <th>Part of Target Population</th>\n",
       "      <th>Recidivism - Return to Prison numeric</th>\n",
       "    </tr>\n",
       "  </thead>\n",
       "  <tbody>\n",
       "    <tr>\n",
       "      <th>0</th>\n",
       "      <td>2010</td>\n",
       "      <td>2013</td>\n",
       "      <td>White - Non-Hispanic</td>\n",
       "      <td>Under 25</td>\n",
       "      <td>D Felony</td>\n",
       "      <td>Violent</td>\n",
       "      <td>4JD</td>\n",
       "      <td>Parole</td>\n",
       "      <td>Yes</td>\n",
       "      <td>1</td>\n",
       "    </tr>\n",
       "    <tr>\n",
       "      <th>1</th>\n",
       "      <td>2010</td>\n",
       "      <td>2013</td>\n",
       "      <td>White - Non-Hispanic</td>\n",
       "      <td>55 and Older</td>\n",
       "      <td>D Felony</td>\n",
       "      <td>Public Order</td>\n",
       "      <td>7JD</td>\n",
       "      <td>Parole</td>\n",
       "      <td>Yes</td>\n",
       "      <td>1</td>\n",
       "    </tr>\n",
       "    <tr>\n",
       "      <th>2</th>\n",
       "      <td>2010</td>\n",
       "      <td>2013</td>\n",
       "      <td>White - Non-Hispanic</td>\n",
       "      <td>25-34</td>\n",
       "      <td>D Felony</td>\n",
       "      <td>Property</td>\n",
       "      <td>5JD</td>\n",
       "      <td>Parole</td>\n",
       "      <td>Yes</td>\n",
       "      <td>1</td>\n",
       "    </tr>\n",
       "    <tr>\n",
       "      <th>3</th>\n",
       "      <td>2010</td>\n",
       "      <td>2013</td>\n",
       "      <td>White - Non-Hispanic</td>\n",
       "      <td>55 and Older</td>\n",
       "      <td>C Felony</td>\n",
       "      <td>Drug</td>\n",
       "      <td>8JD</td>\n",
       "      <td>Parole</td>\n",
       "      <td>Yes</td>\n",
       "      <td>1</td>\n",
       "    </tr>\n",
       "    <tr>\n",
       "      <th>4</th>\n",
       "      <td>2010</td>\n",
       "      <td>2013</td>\n",
       "      <td>Black - Non-Hispanic</td>\n",
       "      <td>25-34</td>\n",
       "      <td>D Felony</td>\n",
       "      <td>Drug</td>\n",
       "      <td>3JD</td>\n",
       "      <td>Parole</td>\n",
       "      <td>Yes</td>\n",
       "      <td>1</td>\n",
       "    </tr>\n",
       "    <tr>\n",
       "      <th>...</th>\n",
       "      <td>...</td>\n",
       "      <td>...</td>\n",
       "      <td>...</td>\n",
       "      <td>...</td>\n",
       "      <td>...</td>\n",
       "      <td>...</td>\n",
       "      <td>...</td>\n",
       "      <td>...</td>\n",
       "      <td>...</td>\n",
       "      <td>...</td>\n",
       "    </tr>\n",
       "    <tr>\n",
       "      <th>26015</th>\n",
       "      <td>2015</td>\n",
       "      <td>2018</td>\n",
       "      <td>White - Hispanic</td>\n",
       "      <td>25-34</td>\n",
       "      <td>C Felony</td>\n",
       "      <td>Violent</td>\n",
       "      <td>Not Mentioned</td>\n",
       "      <td>Discharged End of Sentence</td>\n",
       "      <td>Yes</td>\n",
       "      <td>0</td>\n",
       "    </tr>\n",
       "    <tr>\n",
       "      <th>26016</th>\n",
       "      <td>2015</td>\n",
       "      <td>2018</td>\n",
       "      <td>White - Non-Hispanic</td>\n",
       "      <td>25-34</td>\n",
       "      <td>D Felony</td>\n",
       "      <td>Property</td>\n",
       "      <td>5JD</td>\n",
       "      <td>Paroled to Detainer</td>\n",
       "      <td>No</td>\n",
       "      <td>0</td>\n",
       "    </tr>\n",
       "    <tr>\n",
       "      <th>26017</th>\n",
       "      <td>2015</td>\n",
       "      <td>2018</td>\n",
       "      <td>Black - Non-Hispanic</td>\n",
       "      <td>Under 25</td>\n",
       "      <td>Aggravated Misdemeanor</td>\n",
       "      <td>Violent</td>\n",
       "      <td>1JD</td>\n",
       "      <td>Discharged End of Sentence</td>\n",
       "      <td>Yes</td>\n",
       "      <td>0</td>\n",
       "    </tr>\n",
       "    <tr>\n",
       "      <th>26018</th>\n",
       "      <td>2015</td>\n",
       "      <td>2018</td>\n",
       "      <td>White - Non-Hispanic</td>\n",
       "      <td>Under 25</td>\n",
       "      <td>D Felony</td>\n",
       "      <td>Drug</td>\n",
       "      <td>5JD</td>\n",
       "      <td>Parole</td>\n",
       "      <td>No</td>\n",
       "      <td>0</td>\n",
       "    </tr>\n",
       "    <tr>\n",
       "      <th>26019</th>\n",
       "      <td>2015</td>\n",
       "      <td>2018</td>\n",
       "      <td>White - Non-Hispanic</td>\n",
       "      <td>35-44</td>\n",
       "      <td>C Felony</td>\n",
       "      <td>Violent</td>\n",
       "      <td>Not Mentioned</td>\n",
       "      <td>Parole</td>\n",
       "      <td>No</td>\n",
       "      <td>0</td>\n",
       "    </tr>\n",
       "  </tbody>\n",
       "</table>\n",
       "<p>26020 rows × 10 columns</p>\n",
       "</div>"
      ],
      "text/plain": [
       "       Fiscal Year Released  Recidivism Reporting Year      Race - Ethnicity  \\\n",
       "0                      2010                       2013  White - Non-Hispanic   \n",
       "1                      2010                       2013  White - Non-Hispanic   \n",
       "2                      2010                       2013  White - Non-Hispanic   \n",
       "3                      2010                       2013  White - Non-Hispanic   \n",
       "4                      2010                       2013  Black - Non-Hispanic   \n",
       "...                     ...                        ...                   ...   \n",
       "26015                  2015                       2018      White - Hispanic   \n",
       "26016                  2015                       2018  White - Non-Hispanic   \n",
       "26017                  2015                       2018  Black - Non-Hispanic   \n",
       "26018                  2015                       2018  White - Non-Hispanic   \n",
       "26019                  2015                       2018  White - Non-Hispanic   \n",
       "\n",
       "      Age At Release  Convicting Offense Classification  \\\n",
       "0            Under 25                          D Felony   \n",
       "1        55 and Older                          D Felony   \n",
       "2               25-34                          D Felony   \n",
       "3        55 and Older                          C Felony   \n",
       "4               25-34                          D Felony   \n",
       "...               ...                               ...   \n",
       "26015           25-34                          C Felony   \n",
       "26016           25-34                          D Felony   \n",
       "26017        Under 25            Aggravated Misdemeanor   \n",
       "26018        Under 25                          D Felony   \n",
       "26019           35-44                          C Felony   \n",
       "\n",
       "      Convicting Offense Type Main Supervising District  \\\n",
       "0                     Violent                       4JD   \n",
       "1                Public Order                       7JD   \n",
       "2                    Property                       5JD   \n",
       "3                        Drug                       8JD   \n",
       "4                        Drug                       3JD   \n",
       "...                       ...                       ...   \n",
       "26015                 Violent             Not Mentioned   \n",
       "26016                Property                       5JD   \n",
       "26017                 Violent                       1JD   \n",
       "26018                    Drug                       5JD   \n",
       "26019                 Violent             Not Mentioned   \n",
       "\n",
       "      Release type: Paroled to Detainer united Part of Target Population  \\\n",
       "0                                       Parole                       Yes   \n",
       "1                                       Parole                       Yes   \n",
       "2                                       Parole                       Yes   \n",
       "3                                       Parole                       Yes   \n",
       "4                                       Parole                       Yes   \n",
       "...                                        ...                       ...   \n",
       "26015               Discharged End of Sentence                       Yes   \n",
       "26016                      Paroled to Detainer                        No   \n",
       "26017               Discharged End of Sentence                       Yes   \n",
       "26018                                   Parole                        No   \n",
       "26019                                   Parole                        No   \n",
       "\n",
       "       Recidivism - Return to Prison numeric  \n",
       "0                                          1  \n",
       "1                                          1  \n",
       "2                                          1  \n",
       "3                                          1  \n",
       "4                                          1  \n",
       "...                                      ...  \n",
       "26015                                      0  \n",
       "26016                                      0  \n",
       "26017                                      0  \n",
       "26018                                      0  \n",
       "26019                                      0  \n",
       "\n",
       "[26020 rows x 10 columns]"
      ]
     },
     "execution_count": 2,
     "metadata": {},
     "output_type": "execute_result"
    }
   ],
   "source": [
    "df = pd.read_csv('3_year_recidivism_elaborated_2.csv')\n",
    "df"
   ]
  },
  {
   "cell_type": "code",
   "execution_count": 3,
   "id": "1ffab7c2-100c-4e1f-bf7f-ec5e74170b5c",
   "metadata": {},
   "outputs": [
    {
     "name": "stdout",
     "output_type": "stream",
     "text": [
      "<class 'pandas.core.frame.DataFrame'>\n",
      "RangeIndex: 26020 entries, 0 to 26019\n",
      "Data columns (total 10 columns):\n",
      " #   Column                                    Non-Null Count  Dtype \n",
      "---  ------                                    --------------  ----- \n",
      " 0   Fiscal Year Released                      26020 non-null  int64 \n",
      " 1   Recidivism Reporting Year                 26020 non-null  int64 \n",
      " 2   Race - Ethnicity                          26020 non-null  object\n",
      " 3   Age At Release                            26020 non-null  object\n",
      " 4   Convicting Offense Classification         26020 non-null  object\n",
      " 5   Convicting Offense Type                   26020 non-null  object\n",
      " 6   Main Supervising District                 26020 non-null  object\n",
      " 7   Release type: Paroled to Detainer united  26020 non-null  object\n",
      " 8   Part of Target Population                 26020 non-null  object\n",
      " 9   Recidivism - Return to Prison numeric     26020 non-null  int64 \n",
      "dtypes: int64(3), object(7)\n",
      "memory usage: 2.0+ MB\n"
     ]
    }
   ],
   "source": [
    "df.info()"
   ]
  },
  {
   "cell_type": "markdown",
   "id": "570800e9-88ca-4574-b655-53192f8a6728",
   "metadata": {},
   "source": [
    "Looking pretty good - no null values! One thing to note, though, is that with the exception of the year columns, all the data is categorical, which means it needs to be encoded. Also going to drop the year columns because they're not relevant to the model we want to create: one that can predict recidivism based on the *person*."
   ]
  },
  {
   "cell_type": "code",
   "execution_count": 4,
   "id": "b9ffb906-dc17-401d-80f4-70bb9ebae978",
   "metadata": {},
   "outputs": [],
   "source": [
    "df.drop(['Fiscal Year Released', 'Recidivism Reporting Year'], axis=1, inplace=True)"
   ]
  },
  {
   "cell_type": "markdown",
   "id": "67b26bf6-b6d3-46cc-a09a-0e091fec2769",
   "metadata": {},
   "source": [
    "This next bit is pretty straightforward: split the data into train/test/validation sets. The only slightly unusual thing we're going to do is to create new DataFrames to store the train/test/validation data so that we can come back and do some analysis at the end."
   ]
  },
  {
   "cell_type": "code",
   "execution_count": 5,
   "id": "b067d06c-8bec-40c9-85b6-adb0612616c0",
   "metadata": {},
   "outputs": [],
   "source": [
    "x = df.iloc[:,:-1].values\n",
    "y = df.iloc[:,-1].values\n",
    "\n",
    "enc = OneHotEncoder(sparse=False)\n",
    "encoded_x = enc.fit_transform(x)\n",
    "\n",
    "sss = StratifiedShuffleSplit(n_splits=1, test_size=0.3)\n",
    "\n",
    "train_df = pd.DataFrame([])\n",
    "combo_df = pd.DataFrame([])\n",
    "test_df = pd.DataFrame([])\n",
    "valid_df = pd.DataFrame([])\n",
    "\n",
    "for train_index, combo_index in sss.split(encoded_x, y):\n",
    "    train_x, combo_x = encoded_x[train_index], encoded_x[combo_index]\n",
    "    train_y, combo_y = y[train_index], y[combo_index]\n",
    "    train_df = train_df.append(df.iloc[train_index])\n",
    "    combo_df = combo_df.append(df.iloc[combo_index])\n",
    "    \n",
    "sss = StratifiedShuffleSplit(n_splits=1, test_size=0.5)\n",
    "\n",
    "for test_index, valid_index in sss.split(combo_x, combo_y):\n",
    "    test_x, valid_x = combo_x[test_index], combo_x[valid_index]\n",
    "    test_y, valid_y = combo_y[test_index], combo_y[valid_index]\n",
    "    test_df = test_df.append(combo_df.iloc[test_index])\n",
    "    valid_df = valid_df.append(combo_df.iloc[valid_index])"
   ]
  },
  {
   "cell_type": "markdown",
   "id": "c517cae4-065c-4d69-afc2-a6a2d330c914",
   "metadata": {},
   "source": [
    "Last but not least we define a couple helper methods."
   ]
  },
  {
   "cell_type": "code",
   "execution_count": 6,
   "id": "33cf556c-ddc5-4a49-b2de-4bae37a5b451",
   "metadata": {},
   "outputs": [],
   "source": [
    "best_model = {'acc': 0}\n",
    "\n",
    "# Tracks model with highest accuracy\n",
    "def update_best_model(acc, name, model, params):\n",
    "    if (acc > best_model['acc']):\n",
    "        best_model['acc'] = acc\n",
    "        best_model['name'] = name\n",
    "        best_model['model'] = model\n",
    "        best_model['params'] = params\n",
    "\n",
    "# Performs a grid search on a passed-in classifier\n",
    "def run_grid_search(folds, params, clf, name):\n",
    "    gscv = GridSearchCV(clf, params, cv=folds)\n",
    "    gscv.fit(train_x, train_y)\n",
    "    acc = accuracy_score(test_y, gscv.predict(test_x))\n",
    "    update_best_model(acc, name, gscv, gscv.best_params_)"
   ]
  },
  {
   "cell_type": "markdown",
   "id": "a366b8a5-ce48-4173-aae9-55a4d7896351",
   "metadata": {
    "tags": []
   },
   "source": [
    "# Algorithm Testing"
   ]
  },
  {
   "cell_type": "markdown",
   "id": "c98e9233-a157-4051-ab21-8ecdeeab933c",
   "metadata": {
    "tags": []
   },
   "source": [
    "## KNN"
   ]
  },
  {
   "cell_type": "code",
   "execution_count": 7,
   "id": "95bb2ea5-a899-4f5c-b282-adee73bca232",
   "metadata": {
    "tags": []
   },
   "outputs": [],
   "source": [
    "folds = 10\n",
    "params = {'n_neighbors': list(range(3, 16))}\n",
    "\n",
    "run_grid_search(folds, params, KNeighborsClassifier(), 'KNN')"
   ]
  },
  {
   "cell_type": "markdown",
   "id": "65b3f43e-56f4-4956-807e-88a5512e445b",
   "metadata": {
    "tags": []
   },
   "source": [
    "## Trees"
   ]
  },
  {
   "cell_type": "markdown",
   "id": "33131d1e-5dc7-4a04-9c87-1469740af6b4",
   "metadata": {
    "tags": []
   },
   "source": [
    "### Decision Tree"
   ]
  },
  {
   "cell_type": "code",
   "execution_count": 8,
   "id": "d85c222c-55ae-4547-8aef-4e13724ba342",
   "metadata": {},
   "outputs": [],
   "source": [
    "folds = 10\n",
    "params = {'criterion': ('entropy', 'gini'),\n",
    "         'max_depth': [2, 3, 4, 5, 6, 7, 8]}\n",
    "\n",
    "run_grid_search(folds, params, DecisionTreeClassifier(), 'Decision Tree')"
   ]
  },
  {
   "cell_type": "markdown",
   "id": "3266f795-5146-4af2-9ca6-1dba388af3a3",
   "metadata": {},
   "source": [
    "### Random Forest"
   ]
  },
  {
   "cell_type": "code",
   "execution_count": 9,
   "id": "6ca55806-6c4f-464a-82c2-7f191d34c4d9",
   "metadata": {},
   "outputs": [],
   "source": [
    "folds = 10\n",
    "params = {'criterion': ('entropy', 'gini'),\n",
    "         'max_depth': [2, 3, 4, 5, 6, 7, 8],\n",
    "         'n_estimators': [10, 20, 30, 40]}\n",
    "\n",
    "run_grid_search(folds, params, RandomForestClassifier(), 'Random Forest')"
   ]
  },
  {
   "cell_type": "markdown",
   "id": "f389b7c2-6ab1-43b1-b38a-d67cfce5a9e2",
   "metadata": {},
   "source": [
    "## Logistic Regression"
   ]
  },
  {
   "cell_type": "code",
   "execution_count": 10,
   "id": "f2f41001-ec07-420d-b2a1-d9c977d1bd97",
   "metadata": {},
   "outputs": [],
   "source": [
    "folds = 10\n",
    "params = {'penalty': ['l1', 'l2'],\n",
    "             'C': [1e-4, 1e-3, 1e-2, 0.1, 1, 10, 100, 1000, 10000]}\n",
    "\n",
    "run_grid_search(folds, params, LogisticRegression(solver='liblinear'), 'Logistic Regression')"
   ]
  },
  {
   "cell_type": "markdown",
   "id": "bc0fad3c-1b7f-45e6-ba4d-2f8700b7fdc1",
   "metadata": {},
   "source": [
    "## DNN"
   ]
  },
  {
   "cell_type": "code",
   "execution_count": 11,
   "id": "a79cbaaf-0fb8-44a1-95d8-83232e80b8e1",
   "metadata": {},
   "outputs": [],
   "source": [
    "train_x = tf.dtypes.cast(train_x, tf.float64)\n",
    "test_x = tf.dtypes.cast(test_x, tf.float64)\n",
    "valid_x = tf.dtypes.cast(valid_x, tf.float64)\n",
    "\n",
    "train_y = tf.dtypes.cast(train_y, tf.int64)\n",
    "test_y = tf.dtypes.cast(test_y, tf.int64)\n",
    "valid_y = tf.dtypes.cast(valid_y, tf.int64)"
   ]
  },
  {
   "cell_type": "code",
   "execution_count": 12,
   "id": "488ccdee-6545-486b-b656-89bf4359f8b8",
   "metadata": {},
   "outputs": [],
   "source": [
    "%load_ext tensorboard"
   ]
  },
  {
   "cell_type": "code",
   "execution_count": 13,
   "id": "a55911e8-04ef-4e1a-a4af-9b7d2a511b15",
   "metadata": {},
   "outputs": [],
   "source": [
    "from tensorboard.plugins.hparams import api as hp"
   ]
  },
  {
   "cell_type": "code",
   "execution_count": 35,
   "id": "6c71277a-4742-4da1-92d3-175a8aa6a529",
   "metadata": {},
   "outputs": [],
   "source": [
    "HP_NUM_UNITS = hp.HParam('num_units', hp.Discrete([40, 80, 120]))\n",
    "HP_NUM_LAYERS = hp.HParam('num_layers', hp.Discrete([1]))\n",
    "HP_DROPOUT = hp.HParam('dropout', hp.RealInterval(0.1, 0.2))\n",
    "HP_OPTIMIZER = hp.HParam('optimizer', hp.Discrete(['adam', 'sgd', 'rmsprop']))\n",
    "\n",
    "METRIC_ACCURACY = 'accuracy'\n",
    "\n",
    "with tf.summary.create_file_writer('logs/hparam_tuning').as_default():\n",
    "  hp.hparams_config(\n",
    "    hparams=[HP_NUM_UNITS, HP_NUM_LAYERS, HP_DROPOUT, HP_OPTIMIZER],\n",
    "    metrics=[hp.Metric(METRIC_ACCURACY, display_name='Accuracy')],\n",
    "  )"
   ]
  },
  {
   "cell_type": "markdown",
   "id": "05d4c4c2-04b9-440e-be5e-ec5e9f076833",
   "metadata": {},
   "source": [
    "## Notes\n",
    "\n",
    "- Adding loss weights doesn't really affect accuracy but *can* massively decrease loss, for some reason. [0.2, 3] reduces loss from ~0.5 all the way down to 0.1-0.12 range\n",
    "- Deriving the loss weights from the dataset itself doesn't seem to make much of a difference\n",
    "- Messing around with the loss function doesn't really do much"
   ]
  },
  {
   "cell_type": "code",
   "execution_count": 36,
   "id": "7483760d-11c8-4473-b577-4f1d10405436",
   "metadata": {},
   "outputs": [],
   "source": [
    "# import numpy as np\n",
    "# train_labels = np.asarray(train_y).astype('int64').reshape((-1,1))\n",
    "# train_labels.shape"
   ]
  },
  {
   "cell_type": "code",
   "execution_count": 37,
   "id": "d8879d49-0cab-4029-a426-114e8dff2890",
   "metadata": {},
   "outputs": [],
   "source": [
    "def train_test_model(hparams):\n",
    "\n",
    "  model = tf.keras.models.Sequential()\n",
    "  model.add(tf.keras.layers.Flatten())\n",
    "\n",
    "  for i in range(hparams[HP_NUM_LAYERS]):\n",
    "        model.add(tf.keras.layers.Dense(hparams[HP_NUM_UNITS], activation=tf.nn.relu))\n",
    "        \n",
    "  model.add(tf.keras.layers.Dropout(hparams[HP_DROPOUT]))\n",
    "  model.add(tf.keras.layers.Dense(2, activation=tf.nn.softmax))\n",
    "\n",
    "  model.compile(\n",
    "      optimizer=hparams[HP_OPTIMIZER],\n",
    "      loss='sparse_categorical_crossentropy',\n",
    "      metrics=['accuracy'],\n",
    "#       loss_weights=[0.2,3],\n",
    "  )\n",
    "    \n",
    "  model.fit(train_x, train_y, epochs=5) # Run with 1 epoch to speed things up for demo purposes\n",
    "  _, accuracy = model.evaluate(test_x, test_y)\n",
    "    \n",
    "  update_best_model(accuracy, 'DNN', model, hparams)\n",
    "\n",
    "  return accuracy"
   ]
  },
  {
   "cell_type": "code",
   "execution_count": 38,
   "id": "6bb924f7-c844-49ca-8f2e-a6acdf1135f0",
   "metadata": {},
   "outputs": [],
   "source": [
    "def run(run_dir, hparams):\n",
    "  with tf.summary.create_file_writer(run_dir).as_default():\n",
    "    hp.hparams(hparams)  # record the values used in this trial\n",
    "    accuracy = train_test_model(hparams)\n",
    "    tf.summary.scalar(METRIC_ACCURACY, accuracy, step=1)"
   ]
  },
  {
   "cell_type": "code",
   "execution_count": 39,
   "id": "425c8717-05fd-42e4-af7c-8ff6b79c8e0e",
   "metadata": {
    "tags": []
   },
   "outputs": [
    {
     "name": "stdout",
     "output_type": "stream",
     "text": [
      "--- Starting trial: run-0\n",
      "{'num_units': 40, 'dropout': 0.1, 'optimizer': 'adam', 'num_layers': 1}\n",
      "570/570 [==============================] - 1s 1ms/step - loss: 0.6165 - accuracy: 0.6602\n",
      "122/122 [==============================] - 0s 685us/step - loss: 0.6023 - accuracy: 0.6700\n",
      "--- Starting trial: run-1\n",
      "{'num_units': 40, 'dropout': 0.1, 'optimizer': 'rmsprop', 'num_layers': 1}\n",
      "570/570 [==============================] - 1s 1ms/step - loss: 0.6138 - accuracy: 0.6617\n",
      "122/122 [==============================] - 0s 703us/step - loss: 0.6018 - accuracy: 0.6695\n",
      "--- Starting trial: run-2\n",
      "{'num_units': 40, 'dropout': 0.1, 'optimizer': 'sgd', 'num_layers': 1}\n",
      "570/570 [==============================] - 1s 938us/step - loss: 0.6397 - accuracy: 0.6483\n",
      "122/122 [==============================] - 0s 612us/step - loss: 0.6222 - accuracy: 0.6641\n",
      "--- Starting trial: run-3\n",
      "{'num_units': 40, 'dropout': 0.2, 'optimizer': 'adam', 'num_layers': 1}\n",
      "570/570 [==============================] - 1s 996us/step - loss: 0.6204 - accuracy: 0.6575\n",
      "122/122 [==============================] - 0s 691us/step - loss: 0.6035 - accuracy: 0.6687\n",
      "--- Starting trial: run-4\n",
      "{'num_units': 40, 'dropout': 0.2, 'optimizer': 'rmsprop', 'num_layers': 1}\n",
      "570/570 [==============================] - 1s 994us/step - loss: 0.6165 - accuracy: 0.6637\n",
      "122/122 [==============================] - 0s 672us/step - loss: 0.6018 - accuracy: 0.6723\n",
      "--- Starting trial: run-5\n",
      "{'num_units': 40, 'dropout': 0.2, 'optimizer': 'sgd', 'num_layers': 1}\n",
      "570/570 [==============================] - 1s 1ms/step - loss: 0.6342 - accuracy: 0.6471\n",
      "122/122 [==============================] - 0s 669us/step - loss: 0.6204 - accuracy: 0.6613\n",
      "--- Starting trial: run-6\n",
      "{'num_units': 80, 'dropout': 0.1, 'optimizer': 'adam', 'num_layers': 1}\n",
      "570/570 [==============================] - 1s 2ms/step - loss: 0.6074 - accuracy: 0.6694\n",
      "122/122 [==============================] - 0s 674us/step - loss: 0.5987 - accuracy: 0.6700\n",
      "--- Starting trial: run-7\n",
      "{'num_units': 80, 'dropout': 0.1, 'optimizer': 'rmsprop', 'num_layers': 1}\n",
      "570/570 [==============================] - 1s 2ms/step - loss: 0.6102 - accuracy: 0.6681\n",
      "122/122 [==============================] - 0s 709us/step - loss: 0.5992 - accuracy: 0.6723\n",
      "--- Starting trial: run-8\n",
      "{'num_units': 80, 'dropout': 0.1, 'optimizer': 'sgd', 'num_layers': 1}\n",
      "570/570 [==============================] - 1s 2ms/step - loss: 0.6360 - accuracy: 0.6519\n",
      "122/122 [==============================] - 0s 700us/step - loss: 0.6183 - accuracy: 0.6685\n",
      "--- Starting trial: run-9\n",
      "{'num_units': 80, 'dropout': 0.2, 'optimizer': 'adam', 'num_layers': 1}\n",
      "570/570 [==============================] - 2s 3ms/step - loss: 0.6166 - accuracy: 0.6569\n",
      "122/122 [==============================] - 0s 668us/step - loss: 0.6016 - accuracy: 0.6685\n",
      "--- Starting trial: run-10\n",
      "{'num_units': 80, 'dropout': 0.2, 'optimizer': 'rmsprop', 'num_layers': 1}\n",
      "570/570 [==============================] - 2s 2ms/step - loss: 0.6108 - accuracy: 0.6682\n",
      "122/122 [==============================] - 0s 670us/step - loss: 0.6013 - accuracy: 0.6705\n",
      "--- Starting trial: run-11\n",
      "{'num_units': 80, 'dropout': 0.2, 'optimizer': 'sgd', 'num_layers': 1}\n",
      "570/570 [==============================] - 1s 2ms/step - loss: 0.6348 - accuracy: 0.6482\n",
      "122/122 [==============================] - 0s 669us/step - loss: 0.6167 - accuracy: 0.6677\n",
      "--- Starting trial: run-12\n",
      "{'num_units': 120, 'dropout': 0.1, 'optimizer': 'adam', 'num_layers': 1}\n",
      "570/570 [==============================] - 1s 1ms/step - loss: 0.6083 - accuracy: 0.6692\n",
      "122/122 [==============================] - 0s 654us/step - loss: 0.6060 - accuracy: 0.6687\n",
      "--- Starting trial: run-13\n",
      "{'num_units': 120, 'dropout': 0.1, 'optimizer': 'rmsprop', 'num_layers': 1}\n",
      "570/570 [==============================] - 1s 1ms/step - loss: 0.6091 - accuracy: 0.6681\n",
      "122/122 [==============================] - 0s 719us/step - loss: 0.6027 - accuracy: 0.6679\n",
      "--- Starting trial: run-14\n",
      "{'num_units': 120, 'dropout': 0.1, 'optimizer': 'sgd', 'num_layers': 1}\n",
      "570/570 [==============================] - 1s 1ms/step - loss: 0.6286 - accuracy: 0.6623\n",
      "122/122 [==============================] - 0s 694us/step - loss: 0.6192 - accuracy: 0.6662\n",
      "--- Starting trial: run-15\n",
      "{'num_units': 120, 'dropout': 0.2, 'optimizer': 'adam', 'num_layers': 1}\n",
      "570/570 [==============================] - 1s 1ms/step - loss: 0.6100 - accuracy: 0.6661\n",
      "122/122 [==============================] - 0s 691us/step - loss: 0.6028 - accuracy: 0.6728\n",
      "--- Starting trial: run-16\n",
      "{'num_units': 120, 'dropout': 0.2, 'optimizer': 'rmsprop', 'num_layers': 1}\n",
      "570/570 [==============================] - 1s 1ms/step - loss: 0.6084 - accuracy: 0.6682\n",
      "122/122 [==============================] - 0s 722us/step - loss: 0.6011 - accuracy: 0.6664\n",
      "--- Starting trial: run-17\n",
      "{'num_units': 120, 'dropout': 0.2, 'optimizer': 'sgd', 'num_layers': 1}\n",
      "570/570 [==============================] - 1s 1ms/step - loss: 0.6292 - accuracy: 0.6589: 0s - loss: 0.6372 - \n",
      "122/122 [==============================] - 0s 636us/step - loss: 0.6145 - accuracy: 0.6679\n"
     ]
    }
   ],
   "source": [
    "session_num = 0\n",
    "\n",
    "for num_units in HP_NUM_UNITS.domain.values:\n",
    "  for dropout_rate in (HP_DROPOUT.domain.min_value, HP_DROPOUT.domain.max_value):\n",
    "    for optimizer in HP_OPTIMIZER.domain.values:\n",
    "        for num_layers in HP_NUM_LAYERS.domain.values:\n",
    "          hparams = {\n",
    "              HP_NUM_UNITS: num_units,\n",
    "              HP_DROPOUT: dropout_rate,\n",
    "              HP_OPTIMIZER: optimizer,\n",
    "              HP_NUM_LAYERS: num_layers,\n",
    "          }\n",
    "          run_name = \"run-%d\" % session_num\n",
    "          print('--- Starting trial: %s' % run_name)\n",
    "          print({h.name: hparams[h] for h in hparams})\n",
    "          run('logs/hparam_tuning/' + run_name, hparams)\n",
    "          session_num += 1"
   ]
  },
  {
   "cell_type": "code",
   "execution_count": 40,
   "id": "984bce2b-7b61-4066-9606-385dca9e2c5d",
   "metadata": {},
   "outputs": [
    {
     "data": {
      "text/plain": [
       "Reusing TensorBoard on port 6006 (pid 13816), started 2 days, 7:33:26 ago. (Use '!kill 13816' to kill it.)"
      ]
     },
     "metadata": {},
     "output_type": "display_data"
    },
    {
     "data": {
      "text/html": [
       "\n",
       "      <iframe id=\"tensorboard-frame-64d45dd5e5e6ea4d\" width=\"100%\" height=\"800\" frameborder=\"0\">\n",
       "      </iframe>\n",
       "      <script>\n",
       "        (function() {\n",
       "          const frame = document.getElementById(\"tensorboard-frame-64d45dd5e5e6ea4d\");\n",
       "          const url = new URL(\"/\", window.location);\n",
       "          const port = 6006;\n",
       "          if (port) {\n",
       "            url.port = port;\n",
       "          }\n",
       "          frame.src = url;\n",
       "        })();\n",
       "      </script>\n",
       "    "
      ],
      "text/plain": [
       "<IPython.core.display.HTML object>"
      ]
     },
     "metadata": {},
     "output_type": "display_data"
    }
   ],
   "source": [
    "%tensorboard --logdir logs/hparam_tuning --host localhost"
   ]
  },
  {
   "cell_type": "markdown",
   "id": "1f3c2c2d-1bbf-4bde-b29c-45dfd41cea5d",
   "metadata": {},
   "source": [
    "# Results"
   ]
  },
  {
   "cell_type": "code",
   "execution_count": 60,
   "id": "23360e4f-3c0a-4f73-84e2-d68e399a613d",
   "metadata": {},
   "outputs": [
    {
     "name": "stdout",
     "output_type": "stream",
     "text": [
      "Best Model: DNN \n",
      "Accuracy: 0.6728157997131348\n",
      "Parameters: dict_values([120, 0.2, 'adam', 1])\n"
     ]
    }
   ],
   "source": [
    "print('Best Model:', best_model['name'], '\\nAccuracy:', best_model['acc']) \n",
    "\n",
    "if (best_model['name'] == 'DNN'):\n",
    "    print('Parameters:', best_model['params'].values())\n",
    "else:\n",
    "    print('Parameters:', best_model['params'])"
   ]
  },
  {
   "cell_type": "markdown",
   "id": "a16f4b58-610e-4b36-92ea-3157658ce38e",
   "metadata": {},
   "source": [
    "Now, let's test our best model against our validation set and see how it does."
   ]
  },
  {
   "cell_type": "code",
   "execution_count": 43,
   "id": "09da2559-41a9-4e72-a63c-d54680084cfa",
   "metadata": {},
   "outputs": [
    {
     "name": "stdout",
     "output_type": "stream",
     "text": [
      "122/122 [==============================] - 0s 727us/step - loss: 0.6022 - accuracy: 0.6715\n"
     ]
    },
    {
     "data": {
      "text/plain": [
       "0.6715347170829773"
      ]
     },
     "execution_count": 43,
     "metadata": {},
     "output_type": "execute_result"
    }
   ],
   "source": [
    "prediction = best_model['model'].predict(valid_x)\n",
    "if (best_model['name'] == 'DNN'):\n",
    "    prediction = np.argmax(prediction, axis=1)\n",
    "    _, valid_acc = best_model['model'].evaluate(valid_x, valid_y)\n",
    "else:\n",
    "    valid_acc = accuracy_score(valid_y, prediction)\n",
    "\n",
    "valid_acc"
   ]
  },
  {
   "cell_type": "markdown",
   "id": "6962c4b3-9242-4bbd-afd4-d3ddd1f5895a",
   "metadata": {},
   "source": [
    "Not great, unfortunately. Better than guessing, though! Next up we'll do some checking to see how how much of a factor ethnicity is in our model. What we're going to do is pretty simple: we're going to treat replace the old `is_recid` column in `valid_df` with our predicted values. Then, we'll check out how the proportions stack up relative to the spread of ethnicity from the entire original dataset."
   ]
  },
  {
   "cell_type": "code",
   "execution_count": 62,
   "id": "d3bb29c4-f06d-4d07-892d-8151ecb51f05",
   "metadata": {},
   "outputs": [],
   "source": [
    "def get_diff_dict(column):\n",
    "    predict_df = valid_df.copy(deep=True)   \n",
    "    predict_df[column] = prediction\n",
    "\n",
    "    yes_predict_df = predict_df[predict_df[column] == 1]\n",
    "    yes_valid_df = valid_df[valid_df[column] == 1]\n",
    "\n",
    "    no_predict_df = predict_df[predict_df[column] == 0]\n",
    "    no_valid_df = valid_df[valid_df[column] == 0]\n",
    "\n",
    "    return {'Validation Set': valid_df, 'Prediction Set': predict_df,\n",
    "              'Validation where Recidivism=True': yes_valid_df, 'Prediction where Recidivism=True': yes_predict_df,\n",
    "              'Validation where Recidivism=False': no_valid_df, 'Prediction where Recidivism=False': no_predict_df}\n",
    "    \n",
    "    \n",
    "diff_dict = get_diff_dict('Recidivism - Return to Prison numeric')\n",
    "diff_values = list(diff_dict.values())"
   ]
  },
  {
   "cell_type": "code",
   "execution_count": 63,
   "id": "26174e06-05d8-4519-8632-04a1ccf49ec5",
   "metadata": {},
   "outputs": [
    {
     "data": {
      "text/plain": [
       "<function matplotlib.pyplot.show(close=None, block=None)>"
      ]
     },
     "execution_count": 63,
     "metadata": {},
     "output_type": "execute_result"
    },
    {
     "data": {
      "image/png": "[encoded data removed]",
      "text/plain": [
       "<Figure size 864x576 with 6 Axes>"
      ]
     },
     "metadata": {
      "needs_background": "light"
     },
     "output_type": "display_data"
    }
   ],
   "source": [
    "fig = plt.figure(figsize=(12, 8))\n",
    "i = 1\n",
    "for k, v in diff_dict.items():\n",
    "    ax = fig.add_subplot(3,2,i)\n",
    "#     v.sort_values('Race - Ethnicity')['Race - Ethnicity'].hist(bins=v['Race - Ethnicity'].nunique(), \n",
    "#                                                                ax=ax, xrot=90, xlabelsize=8)\n",
    "    ax.barh(v.sort_values('Race - Ethnicity')['Race - Ethnicity'].unique(), v.sort_values('Race - Ethnicity')['Race - Ethnicity'].value_counts(sort=False))\n",
    "    ax.set_title(k)\n",
    "    i += 1\n",
    "fig.tight_layout()\n",
    "plt.subplots_adjust(top=1.5)\n",
    "plt.show"
   ]
  },
  {
   "cell_type": "code",
   "execution_count": 64,
   "id": "5ac5993a-81d5-4f0c-b30b-1f598a9443ed",
   "metadata": {},
   "outputs": [],
   "source": [
    "def compare_ethnic_spread(base_df, hyp_df):\n",
    "    base_ethnicity_spread = df['Race - Ethnicity'].value_counts(normalize=True)\n",
    "    hyp_ethnicity_spread = hyp_df['Race - Ethnicity'].value_counts(normalize=True)\n",
    "\n",
    "    \n",
    "    print(\n",
    "'''ACTUAL\n",
    "{}\\n\\n\n",
    "PREDICTED:\n",
    "{}\\n\n",
    "DIFFERENCE:'''.format(base_ethnicity_spread, hyp_ethnicity_spread))\n",
    "    \n",
    "    diff = dict()\n",
    "    for race in hyp_df['Race - Ethnicity'].unique():\n",
    "        diff[race] = hyp_ethnicity_spread[race] - base_ethnicity_spread[race]\n",
    "        \n",
    "    print(\"\\n\".join(\"{:48}  {:>8.5f}\".format(k, v) for k, v in diff.items()))"
   ]
  },
  {
   "cell_type": "code",
   "execution_count": 65,
   "id": "fb42aa3d-6782-4a63-a7d7-de6e9ef7ee0f",
   "metadata": {},
   "outputs": [
    {
     "name": "stdout",
     "output_type": "stream",
     "text": [
      "Comparing full validation set vs. full prediction set\n",
      "\n",
      "ACTUAL\n",
      "White - Non-Hispanic                               0.675788\n",
      "Black - Non-Hispanic                               0.234781\n",
      "White - Hispanic                                   0.058493\n",
      "American Indian or Alaska Native - Non-Hispanic    0.019293\n",
      "Asian or Pacific Islander - Non-Hispanic           0.007379\n",
      "Black - Hispanic                                   0.001422\n",
      "Not Mentioned                                      0.001153\n",
      "American Indian or Alaska Native - Hispanic        0.000769\n",
      "White -                                            0.000461\n",
      "Asian or Pacific Islander - Hispanic               0.000192\n",
      "N/A -                                              0.000192\n",
      "Black -                                            0.000077\n",
      "Name: Race - Ethnicity, dtype: float64\n",
      "\n",
      "\n",
      "PREDICTED:\n",
      "White - Non-Hispanic                               0.685370\n",
      "Black - Non-Hispanic                               0.232385\n",
      "White - Hispanic                                   0.055342\n",
      "American Indian or Alaska Native - Non-Hispanic    0.015373\n",
      "Asian or Pacific Islander - Non-Hispanic           0.008199\n",
      "Not Mentioned                                      0.001281\n",
      "Black - Hispanic                                   0.001025\n",
      "White -                                            0.000512\n",
      "American Indian or Alaska Native - Hispanic        0.000512\n",
      "Name: Race - Ethnicity, dtype: float64\n",
      "\n",
      "DIFFERENCE:\n",
      "Black - Non-Hispanic                              -0.00240\n",
      "White - Non-Hispanic                               0.00958\n",
      "White - Hispanic                                  -0.00315\n",
      "American Indian or Alaska Native - Non-Hispanic   -0.00392\n",
      "Asian or Pacific Islander - Non-Hispanic           0.00082\n",
      "Not Mentioned                                      0.00013\n",
      "White -                                            0.00005\n",
      "Black - Hispanic                                  -0.00040\n",
      "American Indian or Alaska Native - Hispanic       -0.00026\n"
     ]
    }
   ],
   "source": [
    "print(\"Comparing full validation set vs. full prediction set\\n\")\n",
    "compare_ethnic_spread(diff_values[0], diff_values[1])"
   ]
  },
  {
   "cell_type": "code",
   "execution_count": 66,
   "id": "bffef329-15df-432b-bfe5-f97e07b8be11",
   "metadata": {},
   "outputs": [
    {
     "name": "stdout",
     "output_type": "stream",
     "text": [
      "Comparing subsets where recidivism was true\n",
      "\n",
      "ACTUAL\n",
      "White - Non-Hispanic                               0.675788\n",
      "Black - Non-Hispanic                               0.234781\n",
      "White - Hispanic                                   0.058493\n",
      "American Indian or Alaska Native - Non-Hispanic    0.019293\n",
      "Asian or Pacific Islander - Non-Hispanic           0.007379\n",
      "Black - Hispanic                                   0.001422\n",
      "Not Mentioned                                      0.001153\n",
      "American Indian or Alaska Native - Hispanic        0.000769\n",
      "White -                                            0.000461\n",
      "Asian or Pacific Islander - Hispanic               0.000192\n",
      "N/A -                                              0.000192\n",
      "Black -                                            0.000077\n",
      "Name: Race - Ethnicity, dtype: float64\n",
      "\n",
      "\n",
      "PREDICTED:\n",
      "White - Non-Hispanic                               0.833333\n",
      "Black - Non-Hispanic                               0.117117\n",
      "American Indian or Alaska Native - Non-Hispanic    0.049550\n",
      "Name: Race - Ethnicity, dtype: float64\n",
      "\n",
      "DIFFERENCE:\n",
      "White - Non-Hispanic                               0.15755\n",
      "Black - Non-Hispanic                              -0.11766\n",
      "American Indian or Alaska Native - Non-Hispanic    0.03026\n"
     ]
    }
   ],
   "source": [
    "print(\"Comparing subsets where recidivism was true\\n\")\n",
    "compare_ethnic_spread(diff_values[2], diff_values[3])"
   ]
  },
  {
   "cell_type": "code",
   "execution_count": 67,
   "id": "d64080a9-5b47-48fb-8f42-af085acb25cf",
   "metadata": {},
   "outputs": [
    {
     "name": "stdout",
     "output_type": "stream",
     "text": [
      "Comparing subsets where recidivism was false\n",
      "\n",
      "ACTUAL\n",
      "White - Non-Hispanic                               0.675788\n",
      "Black - Non-Hispanic                               0.234781\n",
      "White - Hispanic                                   0.058493\n",
      "American Indian or Alaska Native - Non-Hispanic    0.019293\n",
      "Asian or Pacific Islander - Non-Hispanic           0.007379\n",
      "Black - Hispanic                                   0.001422\n",
      "Not Mentioned                                      0.001153\n",
      "American Indian or Alaska Native - Hispanic        0.000769\n",
      "White -                                            0.000461\n",
      "Asian or Pacific Islander - Hispanic               0.000192\n",
      "N/A -                                              0.000192\n",
      "Black -                                            0.000077\n",
      "Name: Race - Ethnicity, dtype: float64\n",
      "\n",
      "\n",
      "PREDICTED:\n",
      "White - Non-Hispanic                               0.676447\n",
      "Black - Non-Hispanic                               0.239337\n",
      "White - Hispanic                                   0.058680\n",
      "American Indian or Alaska Native - Non-Hispanic    0.013312\n",
      "Asian or Pacific Islander - Non-Hispanic           0.008693\n",
      "Not Mentioned                                      0.001358\n",
      "Black - Hispanic                                   0.001087\n",
      "White -                                            0.000543\n",
      "American Indian or Alaska Native - Hispanic        0.000543\n",
      "Name: Race - Ethnicity, dtype: float64\n",
      "\n",
      "DIFFERENCE:\n",
      "Black - Non-Hispanic                               0.00456\n",
      "White - Non-Hispanic                               0.00066\n",
      "White - Hispanic                                   0.00019\n",
      "American Indian or Alaska Native - Non-Hispanic   -0.00598\n",
      "Asian or Pacific Islander - Non-Hispanic           0.00131\n",
      "Not Mentioned                                      0.00021\n",
      "White -                                            0.00008\n",
      "Black - Hispanic                                  -0.00034\n",
      "American Indian or Alaska Native - Hispanic       -0.00023\n"
     ]
    }
   ],
   "source": [
    "print(\"Comparing subsets where recidivism was false\\n\")\n",
    "compare_ethnic_spread(diff_values[4], diff_values[5])"
   ]
  },
  {
   "cell_type": "code",
   "execution_count": null,
   "id": "35e39685-4a1b-4345-b115-e64bd20bf4bd",
   "metadata": {},
   "outputs": [],
   "source": []
  }
 ],
 "metadata": {
  "kernelspec": {
   "display_name": "Python 3 (ipykernel)",
   "language": "python",
   "name": "python3"
  },
  "language_info": {
   "codemirror_mode": {
    "name": "ipython",
    "version": 3
   },
   "file_extension": ".py",
   "mimetype": "text/x-python",
   "name": "python",
   "nbconvert_exporter": "python",
   "pygments_lexer": "ipython3",
   "version": "3.9.7"
  }
 },
 "nbformat": 4,
 "nbformat_minor": 5
}
